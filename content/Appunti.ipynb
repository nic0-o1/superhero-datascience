{
 "cells": [
  {
   "cell_type": "markdown",
   "id": "c90d7d75",
   "metadata": {},
   "source": [
    "<div id=\"h-1\"></div>\n",
    "\n",
    "# Gestione dei dati"
   ]
  },
  {
   "cell_type": "code",
   "execution_count": 1,
   "id": "1d3f4d72",
   "metadata": {},
   "outputs": [
    {
     "data": {
      "text/plain": [
       "(1992.0, 1992.0)"
      ]
     },
     "execution_count": 1,
     "metadata": {},
     "output_type": "execute_result"
    }
   ],
   "source": [
    "%matplotlib inline\n",
    "\n",
    "import csv\n",
    "import numpy as np\n",
    "import pandas as pd\n",
    "from scipy.constants import golden\n",
    "import matplotlib.pyplot as plt\n",
    "\n",
    "plt.style.use('fivethirtyeight')\n",
    "plt.rc('figure', figsize=(5.0, 5.0/golden))\n",
    "\n",
    " #lettura file csv, ritorna una lista\n",
    "with open ('data/heroes.csv', 'r') as data_file:\n",
    "    data_reader = csv.reader(data_file, delimiter = ';')\n",
    "    data = list(data_reader)[1:]\n",
    "\n",
    "#ottendendo l'anno di prima apparizione\n",
    "years = [int(h[7]) if h[7] else None for h in data]\n",
    "name = [h[0] for h in data]\n",
    "first_appearance = pd.Series(years, index=name)\n",
    "first_appearance\n",
    "\n",
    "#accesso ai dati\n",
    "(first_appearance['Wonder Woman'], first_appearance.loc['Wonder Woman'])\n",
    "(first_appearance[128], first_appearance.iloc[128])\n",
    "\n"
   ]
  },
  {
   "cell_type": "markdown",
   "id": "a81a5ba0",
   "metadata": {},
   "source": [
    "<div class=\"alert alert-warning\">\n",
    "Se l'indice di una serie è basato su valori interi, i valori tra parentesi quadre immediatamente dopo la serie faranno riferimento all'indice e non alla posizione: ciò potrebbe essere fuorviante se gli elementi dell'indice non partono da zero e non sono consecutivi.\n",
    "</div>"
   ]
  },
  {
   "cell_type": "code",
   "execution_count": 2,
   "id": "5b1f8cc7",
   "metadata": {},
   "outputs": [
    {
     "data": {
      "text/plain": [
       "1964.0    18\n",
       "1963.0    18\n",
       "1965.0    14\n",
       "2004.0    11\n",
       "1975.0    10\n",
       "          ..\n",
       "1939.0     1\n",
       "2009.0     1\n",
       "2099.0     1\n",
       "1945.0     1\n",
       "1988.0     1\n",
       "Length: 71, dtype: int64"
      ]
     },
     "execution_count": 2,
     "metadata": {},
     "output_type": "execute_result"
    }
   ],
   "source": [
    "#Visualizzazione delle frequenze assolute\n",
    "first_appearance.value_counts().sort_values(ascending = False)"
   ]
  },
  {
   "cell_type": "code",
   "execution_count": 3,
   "id": "de30d2a5",
   "metadata": {},
   "outputs": [
    {
     "data": {
      "image/png": "[encoded data removed]",
      "text/plain": [
       "<Figure size 432x288 with 1 Axes>"
      ]
     },
     "metadata": {
      "needs_background": "light"
     },
     "output_type": "display_data"
    }
   ],
   "source": [
    "#Graficando una serie\n",
    "%matplotlib inline\n",
    "import matplotlib.pyplot as plt\n",
    "\n",
    "first_app_freq = first_appearance.value_counts()\n",
    "\n",
    "plt.bar(first_app_freq.index, first_app_freq.values)\n",
    "#gestione outlier\n",
    "plt.xlim((1935, 2015))\n",
    "plt.ylim(0, 18.5)\n",
    "plt.show()\n"
   ]
  },
  {
   "cell_type": "code",
   "execution_count": 4,
   "id": "d35c4e39",
   "metadata": {},
   "outputs": [
    {
     "data": {
      "text/plain": [
       "A-Bomb         4.129430\n",
       "Abraxas             NaN\n",
       "Abomination    4.122524\n",
       "Adam Monroe         NaN\n",
       "Agent 13       3.007103\n",
       "                 ...   \n",
       "Alan Scott     3.275376\n",
       "Amazo          6.630110\n",
       "Ant-Man        4.483383\n",
       "Ajax           3.738036\n",
       "Alex Mercer         NaN\n",
       "Length: 735, dtype: float64"
      ]
     },
     "execution_count": 4,
     "metadata": {},
     "output_type": "execute_result"
    }
   ],
   "source": [
    "#Operazioni con le serie\n",
    "#totale persone dopo il 1960\n",
    "sum(first_app_freq[1960:])\n",
    "\n",
    "#se le operazioi sono più complesse\n",
    "names = [h[0] for h in data]\n",
    "height = pd.Series([float(h[4]) if h[4] else None for h in data], index = names)\n",
    "\n",
    "height.apply(lambda h: (h/100)**2)"
   ]
  },
  {
   "cell_type": "code",
   "execution_count": 5,
   "id": "8a26da32",
   "metadata": {},
   "outputs": [
    {
     "data": {
      "text/plain": [
       "59.18525003704559"
      ]
     },
     "execution_count": 5,
     "metadata": {},
     "output_type": "execute_result"
    }
   ],
   "source": [
    "#Dataframe\n",
    "#lettura da csv, ritorna un dataframe\n",
    "data = pd.read_csv('data/heroes.csv', sep = ';', index_col = 0)\n",
    "\n",
    "#anche qui possono usare loc e iloc\n",
    "data.loc['Professor X', 'Height':'Weight']\n",
    "\n",
    "#Indici di centralità\n",
    "data['Height'].mean() #media \n",
    "data['Height'].mode() #moda\n",
    "data['Height'].median() #mediana\n",
    "\n",
    "#indici di dispersione\n",
    "data['Height'].quantile(.75) - data['Height'].quantile(.25) #range interquartile \n",
    "data['Height'].var() #varianza\n",
    "data['Height'].std() #dev std"
   ]
  },
  {
   "cell_type": "code",
   "execution_count": 6,
   "id": "e9b5fe18",
   "metadata": {},
   "outputs": [
    {
     "data": {
      "text/html": [
       "<div>\n",
       "<style scoped>\n",
       "    .dataframe tbody tr th:only-of-type {\n",
       "        vertical-align: middle;\n",
       "    }\n",
       "\n",
       "    .dataframe tbody tr th {\n",
       "        vertical-align: top;\n",
       "    }\n",
       "\n",
       "    .dataframe thead th {\n",
       "        text-align: right;\n",
       "    }\n",
       "</style>\n",
       "<table border=\"1\" class=\"dataframe\">\n",
       "  <thead>\n",
       "    <tr style=\"text-align: right;\">\n",
       "      <th></th>\n",
       "      <th>Height</th>\n",
       "      <th>Weight</th>\n",
       "    </tr>\n",
       "    <tr>\n",
       "      <th>Name</th>\n",
       "      <th></th>\n",
       "      <th></th>\n",
       "    </tr>\n",
       "  </thead>\n",
       "  <tbody>\n",
       "    <tr>\n",
       "      <th>Tempest</th>\n",
       "      <td>163.02</td>\n",
       "      <td>54.36</td>\n",
       "    </tr>\n",
       "    <tr>\n",
       "      <th>Supergirl</th>\n",
       "      <td>165.40</td>\n",
       "      <td>54.80</td>\n",
       "    </tr>\n",
       "  </tbody>\n",
       "</table>\n",
       "</div>"
      ],
      "text/plain": [
       "           Height  Weight\n",
       "Name                     \n",
       "Tempest    163.02   54.36\n",
       "Supergirl  165.40   54.80"
      ]
     },
     "execution_count": 6,
     "metadata": {},
     "output_type": "execute_result"
    }
   ],
   "source": [
    "data.iloc[[106, 103], [3, 4]]"
   ]
  },
  {
   "cell_type": "code",
   "execution_count": 7,
   "id": "05367673",
   "metadata": {},
   "outputs": [
    {
     "data": {
      "text/html": [
       "<div>\n",
       "<style scoped>\n",
       "    .dataframe tbody tr th:only-of-type {\n",
       "        vertical-align: middle;\n",
       "    }\n",
       "\n",
       "    .dataframe tbody tr th {\n",
       "        vertical-align: top;\n",
       "    }\n",
       "\n",
       "    .dataframe thead th {\n",
       "        text-align: right;\n",
       "    }\n",
       "</style>\n",
       "<table border=\"1\" class=\"dataframe\">\n",
       "  <thead>\n",
       "    <tr style=\"text-align: right;\">\n",
       "      <th></th>\n",
       "      <th>Identity</th>\n",
       "      <th>Birth place</th>\n",
       "      <th>Publisher</th>\n",
       "      <th>Height</th>\n",
       "      <th>Weight</th>\n",
       "      <th>Gender</th>\n",
       "      <th>First appearance</th>\n",
       "      <th>Eye color</th>\n",
       "      <th>Hair color</th>\n",
       "      <th>Strength</th>\n",
       "      <th>Intelligence</th>\n",
       "    </tr>\n",
       "    <tr>\n",
       "      <th>Name</th>\n",
       "      <th></th>\n",
       "      <th></th>\n",
       "      <th></th>\n",
       "      <th></th>\n",
       "      <th></th>\n",
       "      <th></th>\n",
       "      <th></th>\n",
       "      <th></th>\n",
       "      <th></th>\n",
       "      <th></th>\n",
       "      <th></th>\n",
       "    </tr>\n",
       "  </thead>\n",
       "  <tbody>\n",
       "    <tr>\n",
       "      <th>Sasquatch</th>\n",
       "      <td>Walter Langkowski</td>\n",
       "      <td>Edmonton, Alberta, Canada</td>\n",
       "      <td>Marvel Comics</td>\n",
       "      <td>305.02</td>\n",
       "      <td>900.70</td>\n",
       "      <td>M</td>\n",
       "      <td>NaN</td>\n",
       "      <td>Red</td>\n",
       "      <td>Orange</td>\n",
       "      <td>80.0</td>\n",
       "      <td>good</td>\n",
       "    </tr>\n",
       "    <tr>\n",
       "      <th>Juggernaut</th>\n",
       "      <td>Cain Marko</td>\n",
       "      <td>Berkeley, California</td>\n",
       "      <td>Marvel Comics</td>\n",
       "      <td>287.95</td>\n",
       "      <td>855.82</td>\n",
       "      <td>M</td>\n",
       "      <td>1965.0</td>\n",
       "      <td>Blue</td>\n",
       "      <td>Red</td>\n",
       "      <td>100.0</td>\n",
       "      <td>average</td>\n",
       "    </tr>\n",
       "    <tr>\n",
       "      <th>Darkseid</th>\n",
       "      <td>Uxas</td>\n",
       "      <td>NaN</td>\n",
       "      <td>DC Comics</td>\n",
       "      <td>267.37</td>\n",
       "      <td>817.57</td>\n",
       "      <td>M</td>\n",
       "      <td>1970.0</td>\n",
       "      <td>Red</td>\n",
       "      <td>No Hair</td>\n",
       "      <td>100.0</td>\n",
       "      <td>high</td>\n",
       "    </tr>\n",
       "    <tr>\n",
       "      <th>Hulk</th>\n",
       "      <td>Bruce Banner</td>\n",
       "      <td>Dayton, Ohio</td>\n",
       "      <td>Marvel Comics</td>\n",
       "      <td>244.40</td>\n",
       "      <td>630.90</td>\n",
       "      <td>M</td>\n",
       "      <td>1962.0</td>\n",
       "      <td>Green</td>\n",
       "      <td>Green</td>\n",
       "      <td>100.0</td>\n",
       "      <td>high</td>\n",
       "    </tr>\n",
       "    <tr>\n",
       "      <th>Giganta</th>\n",
       "      <td>Doris Zuel</td>\n",
       "      <td>NaN</td>\n",
       "      <td>DC Comics</td>\n",
       "      <td>62.65</td>\n",
       "      <td>630.80</td>\n",
       "      <td>F</td>\n",
       "      <td>1944.0</td>\n",
       "      <td>Green</td>\n",
       "      <td>Red</td>\n",
       "      <td>90.0</td>\n",
       "      <td>high</td>\n",
       "    </tr>\n",
       "  </tbody>\n",
       "</table>\n",
       "</div>"
      ],
      "text/plain": [
       "                     Identity                 Birth place      Publisher  \\\n",
       "Name                                                                       \n",
       "Sasquatch   Walter Langkowski  Edmonton, Alberta, Canada   Marvel Comics   \n",
       "Juggernaut         Cain Marko        Berkeley, California  Marvel Comics   \n",
       "Darkseid                 Uxas                         NaN      DC Comics   \n",
       "Hulk             Bruce Banner                Dayton, Ohio  Marvel Comics   \n",
       "Giganta            Doris Zuel                         NaN      DC Comics   \n",
       "\n",
       "            Height  Weight Gender  First appearance Eye color Hair color  \\\n",
       "Name                                                                       \n",
       "Sasquatch   305.02  900.70      M               NaN       Red     Orange   \n",
       "Juggernaut  287.95  855.82      M            1965.0      Blue        Red   \n",
       "Darkseid    267.37  817.57      M            1970.0       Red    No Hair   \n",
       "Hulk        244.40  630.90      M            1962.0     Green      Green   \n",
       "Giganta      62.65  630.80      F            1944.0     Green        Red   \n",
       "\n",
       "            Strength Intelligence  \n",
       "Name                               \n",
       "Sasquatch       80.0         good  \n",
       "Juggernaut     100.0      average  \n",
       "Darkseid       100.0         high  \n",
       "Hulk           100.0         high  \n",
       "Giganta         90.0         high  "
      ]
     },
     "execution_count": 7,
     "metadata": {},
     "output_type": "execute_result"
    }
   ],
   "source": [
    "#Ordinamento dei dati\n",
    "data.sort_values(by='Weight', ascending=False)[:5]"
   ]
  },
  {
   "cell_type": "code",
   "execution_count": 8,
   "id": "7a49600d",
   "metadata": {},
   "outputs": [
    {
     "data": {
      "text/html": [
       "<div>\n",
       "<style scoped>\n",
       "    .dataframe tbody tr th:only-of-type {\n",
       "        vertical-align: middle;\n",
       "    }\n",
       "\n",
       "    .dataframe tbody tr th {\n",
       "        vertical-align: top;\n",
       "    }\n",
       "\n",
       "    .dataframe thead th {\n",
       "        text-align: right;\n",
       "    }\n",
       "</style>\n",
       "<table border=\"1\" class=\"dataframe\">\n",
       "  <thead>\n",
       "    <tr style=\"text-align: right;\">\n",
       "      <th></th>\n",
       "      <th>Rel. frequence</th>\n",
       "    </tr>\n",
       "    <tr>\n",
       "      <th>Publisher</th>\n",
       "      <th></th>\n",
       "    </tr>\n",
       "  </thead>\n",
       "  <tbody>\n",
       "    <tr>\n",
       "      <th>ABC Studios</th>\n",
       "      <td>1.11</td>\n",
       "    </tr>\n",
       "    <tr>\n",
       "      <th>DC Comics</th>\n",
       "      <td>33.61</td>\n",
       "    </tr>\n",
       "    <tr>\n",
       "      <th>Dark Horse Comics</th>\n",
       "      <td>3.33</td>\n",
       "    </tr>\n",
       "    <tr>\n",
       "      <th>George Lucas</th>\n",
       "      <td>3.06</td>\n",
       "    </tr>\n",
       "    <tr>\n",
       "      <th>Hanna-Barbera</th>\n",
       "      <td>0.28</td>\n",
       "    </tr>\n",
       "    <tr>\n",
       "      <th>Image Comics</th>\n",
       "      <td>0.83</td>\n",
       "    </tr>\n",
       "    <tr>\n",
       "      <th>Marvel Comics</th>\n",
       "      <td>56.94</td>\n",
       "    </tr>\n",
       "    <tr>\n",
       "      <th>Rebellion</th>\n",
       "      <td>0.28</td>\n",
       "    </tr>\n",
       "    <tr>\n",
       "      <th>Star Trek</th>\n",
       "      <td>0.28</td>\n",
       "    </tr>\n",
       "    <tr>\n",
       "      <th>Universal Studios</th>\n",
       "      <td>0.28</td>\n",
       "    </tr>\n",
       "  </tbody>\n",
       "</table>\n",
       "</div>"
      ],
      "text/plain": [
       "                   Rel. frequence\n",
       "Publisher                        \n",
       "ABC Studios                  1.11\n",
       "DC Comics                   33.61\n",
       "Dark Horse Comics            3.33\n",
       "George Lucas                 3.06\n",
       "Hanna-Barbera                0.28\n",
       "Image Comics                 0.83\n",
       "Marvel Comics               56.94\n",
       "Rebellion                    0.28\n",
       "Star Trek                    0.28\n",
       "Universal Studios            0.28"
      ]
     },
     "execution_count": 8,
     "metadata": {},
     "output_type": "execute_result"
    }
   ],
   "source": [
    "#Gestione delle frequenze\n",
    "#pd.crosstab ritorna un daaframe, specificando normalize = True si ottiene la tabella delle frequenze relative\n",
    "heroes_with_year = data[data['First appearance'] < 2020]\n",
    "publisher_freq = pd.crosstab(index=heroes_with_year['Publisher'],\n",
    "                             columns=['Abs. frequence'],\n",
    "                             colnames=[''],\n",
    "                            normalize = False, margins = False)\n",
    "publisher_rel_freq = pd.crosstab(index=heroes_with_year['Publisher'],\n",
    "                                 columns=['Rel. frequence'],\n",
    "                                 colnames=[''],\n",
    "                                 normalize=True)\n",
    "publisher_rel_freq.apply(lambda h: np.round(h*100,2))"
   ]
  },
  {
   "cell_type": "code",
   "execution_count": 9,
   "id": "bc451bb5",
   "metadata": {},
   "outputs": [
    {
     "data": {
      "image/png": "[encoded data removed]",
      "text/plain": [
       "<Figure size 432x288 with 1 Axes>"
      ]
     },
     "metadata": {
      "needs_background": "light"
     },
     "output_type": "display_data"
    }
   ],
   "source": [
    "#Visualizzazione frequenze\n",
    "publisher_freq.plot.bar(legend = False)\n",
    "plt.grid()\n",
    "plt.show()"
   ]
  },
  {
   "cell_type": "code",
   "execution_count": 10,
   "id": "8aaca13b",
   "metadata": {},
   "outputs": [
    {
     "data": {
      "image/png": "[encoded data removed]",
      "text/plain": [
       "<Figure size 432x288 with 1 Axes>"
      ]
     },
     "metadata": {},
     "output_type": "display_data"
    }
   ],
   "source": [
    "#Utilizzare le frequenze relative conviene particolarmente quando il numero di osservazioni è viariabile\n",
    "gender_freq = pd.crosstab(index=heroes_with_year['Gender'],\n",
    "                          columns=['Abs. frequence'],\n",
    "                          colnames=[''])\n",
    "gender_freq.plot.pie(y='Abs. frequence', colors=['pink', 'blue'])\n",
    "plt.show()"
   ]
  },
  {
   "cell_type": "code",
   "execution_count": 11,
   "id": "e3a44a86",
   "metadata": {},
   "outputs": [
    {
     "data": {
      "image/png": "[encoded data removed]",
      "text/plain": [
       "<Figure size 432x288 with 1 Axes>"
      ]
     },
     "metadata": {
      "needs_background": "light"
     },
     "output_type": "display_data"
    }
   ],
   "source": [
    "# grafico a bastoncini in cui ogni punto è evidenziato, \n",
    "#piuttosto che da una barra, da un segmento verticale che lo congiunge con l'asse delle ascisse\n",
    "heroes_with_year = data[data['First appearance'] < 2020]\n",
    "first_app_freq = heroes_with_year['First appearance'].value_counts()\n",
    "plt.vlines(first_app_freq.index, 0, first_app_freq.values)\n",
    "plt.plot(first_app_freq.index, first_app_freq.values, 'o')\n",
    "plt.show()"
   ]
  },
  {
   "cell_type": "code",
   "execution_count": 12,
   "id": "8a1bdd57",
   "metadata": {},
   "outputs": [
    {
     "data": {
      "image/png": "[encoded data removed]",
      "text/plain": [
       "<Figure size 432x288 with 1 Axes>"
      ]
     },
     "metadata": {
      "needs_background": "light"
     },
     "output_type": "display_data"
    }
   ],
   "source": [
    "data['Weight'].hist()\n",
    "plt.show()"
   ]
  },
  {
   "cell_type": "code",
   "execution_count": 13,
   "id": "bab70336",
   "metadata": {},
   "outputs": [
    {
     "data": {
      "image/png": "[encoded data removed]",
      "text/plain": [
       "<Figure size 432x288 with 1 Axes>"
      ]
     },
     "metadata": {
      "needs_background": "light"
     },
     "output_type": "display_data"
    }
   ],
   "source": [
    "peso = data['Strength']\n",
    "bins = np.arange(0,peso.max(),1)\n",
    "peso.hist(bins = np.hstack(bins))\n",
    "plt.show()\n",
    "#bins = numero di sotto-intervalli equiampi"
   ]
  },
  {
   "cell_type": "markdown",
   "id": "0c7d083d",
   "metadata": {},
   "source": [
    "frequenze cumulate, che si possono calcolare quando esiste una relazione di ordine per i valori del carattere. Essenzialmente si tratta di considerare i valori del carattere dal più piccolo al più grande, di calcolare le relative frequenze e di cumularle in modo che al primo elemento sia associata la sua frequenza, al secondo la somma delle frequenze dei primi due elementi, al terzo la somma delle prime tre frequenze e così via."
   ]
  },
  {
   "cell_type": "code",
   "execution_count": 14,
   "id": "223c38e9",
   "metadata": {
    "scrolled": true
   },
   "outputs": [
    {
     "data": {
      "text/html": [
       "<div>\n",
       "<style scoped>\n",
       "    .dataframe tbody tr th:only-of-type {\n",
       "        vertical-align: middle;\n",
       "    }\n",
       "\n",
       "    .dataframe tbody tr th {\n",
       "        vertical-align: top;\n",
       "    }\n",
       "\n",
       "    .dataframe thead th {\n",
       "        text-align: right;\n",
       "    }\n",
       "</style>\n",
       "<table border=\"1\" class=\"dataframe\">\n",
       "  <thead>\n",
       "    <tr style=\"text-align: right;\">\n",
       "      <th></th>\n",
       "      <th>Cumulate freq.</th>\n",
       "    </tr>\n",
       "    <tr>\n",
       "      <th>First appearance</th>\n",
       "      <th></th>\n",
       "    </tr>\n",
       "  </thead>\n",
       "  <tbody>\n",
       "    <tr>\n",
       "      <th>1933.0</th>\n",
       "      <td>1</td>\n",
       "    </tr>\n",
       "    <tr>\n",
       "      <th>1939.0</th>\n",
       "      <td>2</td>\n",
       "    </tr>\n",
       "    <tr>\n",
       "      <th>1940.0</th>\n",
       "      <td>11</td>\n",
       "    </tr>\n",
       "    <tr>\n",
       "      <th>1941.0</th>\n",
       "      <td>18</td>\n",
       "    </tr>\n",
       "    <tr>\n",
       "      <th>1943.0</th>\n",
       "      <td>20</td>\n",
       "    </tr>\n",
       "  </tbody>\n",
       "</table>\n",
       "</div>"
      ],
      "text/plain": [
       "                  Cumulate freq.\n",
       "First appearance                \n",
       "1933.0                         1\n",
       "1939.0                         2\n",
       "1940.0                        11\n",
       "1941.0                        18\n",
       "1943.0                        20"
      ]
     },
     "execution_count": 14,
     "metadata": {},
     "output_type": "execute_result"
    }
   ],
   "source": [
    "first_app_freq_cumulate = pd.crosstab(index=heroes_with_year['First appearance'],\n",
    "                                       columns=['Cumulate freq.'],\n",
    "                                       colnames=['']).cumsum()\n",
    "first_app_freq_cumulate.head()"
   ]
  },
  {
   "cell_type": "markdown",
   "id": "6253f9b8",
   "metadata": {},
   "source": [
    "Frequenze e frequenze cumulate di una variabile categorica possono essere considerate congiuntamente per generare un diagramma di Pareto nel modo seguente: ordinando i dati per frequenza decrescente, su uno stesso sistema di riferimento in cui l'asse delle ascisse fa riferimento ai valori della variabile si sovrappongono il diagramma a barre delle frequenze e una linea spezzata che collega i valori delle frequenze cumulate\n"
   ]
  },
  {
   "cell_type": "code",
   "execution_count": 15,
   "id": "c36151dd",
   "metadata": {},
   "outputs": [
    {
     "data": {
      "image/png": "[encoded data removed]",
      "text/plain": [
       "<Figure size 432x288 with 1 Axes>"
      ]
     },
     "metadata": {
      "needs_background": "light"
     },
     "output_type": "display_data"
    },
    {
     "data": {
      "image/png": "[encoded data removed]",
      "text/plain": [
       "<Figure size 432x288 with 1 Axes>"
      ]
     },
     "metadata": {
      "needs_background": "light"
     },
     "output_type": "display_data"
    }
   ],
   "source": [
    "eye_color = data['Eye color']\n",
    "eye_color_freq = eye_color.value_counts(normalize=True)\n",
    "\n",
    "eye_color_freq[eye_color_freq>.02].cumsum().plot()\n",
    "eye_color_freq[eye_color_freq>.02].plot.bar()\n",
    "plt.show()\n",
    "\n",
    "def my_pareto(data, threshold=0.02, renormalize=False):\n",
    "    freq = data.value_counts(normalize=True)\n",
    "    freq = freq[freq > threshold]\n",
    "    if renormalize:\n",
    "        freq = freq / sum(freq)\n",
    "    freq.cumsum().plot()\n",
    "    freq.plot.bar()\n",
    "\n",
    "my_pareto(data['Eye color'], threshold=0)"
   ]
  },
  {
   "cell_type": "code",
   "execution_count": 16,
   "id": "0cdab029",
   "metadata": {},
   "outputs": [
    {
     "data": {
      "image/png": "[encoded data removed]",
      "text/plain": [
       "<Figure size 432x288 with 1 Axes>"
      ]
     },
     "metadata": {
      "needs_background": "light"
     },
     "output_type": "display_data"
    }
   ],
   "source": [
    "#Funzione comunalativa empirica\n",
    "from statsmodels.distributions.empirical_distribution import ECDF\n",
    "dist = ECDF(data['Weight'].dropna())\n",
    "plt.plot(dist.x, dist.y)\n",
    "plt.show()"
   ]
  },
  {
   "cell_type": "markdown",
   "id": "c25cd117",
   "metadata": {},
   "source": [
    "Il concetto di frequenza si specializza in questo caso andando a contare il numero di osservazioni in cui i due caratteri considerati assumono due determinati valori, ottenendo la cosiddetta frequenza congiunta assoluta"
   ]
  },
  {
   "cell_type": "code",
   "execution_count": 17,
   "id": "8bb03e80",
   "metadata": {},
   "outputs": [
    {
     "data": {
      "text/html": [
       "<div>\n",
       "<style scoped>\n",
       "    .dataframe tbody tr th:only-of-type {\n",
       "        vertical-align: middle;\n",
       "    }\n",
       "\n",
       "    .dataframe tbody tr th {\n",
       "        vertical-align: top;\n",
       "    }\n",
       "\n",
       "    .dataframe thead th {\n",
       "        text-align: right;\n",
       "    }\n",
       "</style>\n",
       "<table border=\"1\" class=\"dataframe\">\n",
       "  <thead>\n",
       "    <tr style=\"text-align: right;\">\n",
       "      <th>Gender</th>\n",
       "      <th>F</th>\n",
       "      <th>M</th>\n",
       "    </tr>\n",
       "    <tr>\n",
       "      <th>Intelligence</th>\n",
       "      <th></th>\n",
       "      <th></th>\n",
       "    </tr>\n",
       "  </thead>\n",
       "  <tbody>\n",
       "    <tr>\n",
       "      <th>average</th>\n",
       "      <td>38</td>\n",
       "      <td>101</td>\n",
       "    </tr>\n",
       "    <tr>\n",
       "      <th>good</th>\n",
       "      <td>78</td>\n",
       "      <td>165</td>\n",
       "    </tr>\n",
       "    <tr>\n",
       "      <th>high</th>\n",
       "      <td>27</td>\n",
       "      <td>112</td>\n",
       "    </tr>\n",
       "    <tr>\n",
       "      <th>low</th>\n",
       "      <td>0</td>\n",
       "      <td>13</td>\n",
       "    </tr>\n",
       "    <tr>\n",
       "      <th>moderate</th>\n",
       "      <td>21</td>\n",
       "      <td>37</td>\n",
       "    </tr>\n",
       "  </tbody>\n",
       "</table>\n",
       "</div>"
      ],
      "text/plain": [
       "Gender         F    M\n",
       "Intelligence         \n",
       "average       38  101\n",
       "good          78  165\n",
       "high          27  112\n",
       "low            0   13\n",
       "moderate      21   37"
      ]
     },
     "execution_count": 17,
     "metadata": {},
     "output_type": "execute_result"
    }
   ],
   "source": [
    "int_gender_freq = pd.crosstab(index=data['Intelligence'], \n",
    "                              columns=data['Gender'])\n",
    "\n",
    "int_gender_freq"
   ]
  },
  {
   "cell_type": "code",
   "execution_count": 18,
   "id": "8cc1fb1f",
   "metadata": {},
   "outputs": [
    {
     "data": {
      "text/html": [
       "<div>\n",
       "<style scoped>\n",
       "    .dataframe tbody tr th:only-of-type {\n",
       "        vertical-align: middle;\n",
       "    }\n",
       "\n",
       "    .dataframe tbody tr th {\n",
       "        vertical-align: top;\n",
       "    }\n",
       "\n",
       "    .dataframe thead th {\n",
       "        text-align: right;\n",
       "    }\n",
       "</style>\n",
       "<table border=\"1\" class=\"dataframe\">\n",
       "  <thead>\n",
       "    <tr style=\"text-align: right;\">\n",
       "      <th>Gender</th>\n",
       "      <th>F</th>\n",
       "      <th>M</th>\n",
       "    </tr>\n",
       "    <tr>\n",
       "      <th>Weight</th>\n",
       "      <th></th>\n",
       "      <th></th>\n",
       "    </tr>\n",
       "  </thead>\n",
       "  <tbody>\n",
       "    <tr>\n",
       "      <th>[30, 50)</th>\n",
       "      <td>4</td>\n",
       "      <td>4</td>\n",
       "    </tr>\n",
       "    <tr>\n",
       "      <th>[50, 80)</th>\n",
       "      <td>116</td>\n",
       "      <td>88</td>\n",
       "    </tr>\n",
       "    <tr>\n",
       "      <th>[80, 100)</th>\n",
       "      <td>5</td>\n",
       "      <td>111</td>\n",
       "    </tr>\n",
       "    <tr>\n",
       "      <th>[100, 200)</th>\n",
       "      <td>11</td>\n",
       "      <td>84</td>\n",
       "    </tr>\n",
       "    <tr>\n",
       "      <th>[200, 500)</th>\n",
       "      <td>5</td>\n",
       "      <td>38</td>\n",
       "    </tr>\n",
       "    <tr>\n",
       "      <th>[500, 1000)</th>\n",
       "      <td>1</td>\n",
       "      <td>5</td>\n",
       "    </tr>\n",
       "  </tbody>\n",
       "</table>\n",
       "</div>"
      ],
      "text/plain": [
       "Gender         F    M\n",
       "Weight               \n",
       "[30, 50)       4    4\n",
       "[50, 80)     116   88\n",
       "[80, 100)      5  111\n",
       "[100, 200)    11   84\n",
       "[200, 500)     5   38\n",
       "[500, 1000)    1    5"
      ]
     },
     "execution_count": 18,
     "metadata": {},
     "output_type": "execute_result"
    }
   ],
   "source": [
    "pd.crosstab(index=pd.cut(data['Weight'],\n",
    "                         bins=[30, 50, 80, 100, 200, 500, 1000], right = False),\n",
    "            columns=[data['Gender']])"
   ]
  },
  {
   "cell_type": "code",
   "execution_count": 19,
   "id": "28de17f0",
   "metadata": {},
   "outputs": [
    {
     "data": {
      "image/png": "[encoded data removed]",
      "text/plain": [
       "<Figure size 432x288 with 1 Axes>"
      ]
     },
     "metadata": {
      "needs_background": "light"
     },
     "output_type": "display_data"
    }
   ],
   "source": [
    "int_gender_freq.plot.bar(color=['pink', 'blue'], stacked=False)\n",
    "plt.show()"
   ]
  },
  {
   "cell_type": "code",
   "execution_count": 20,
   "id": "8f5a0750",
   "metadata": {},
   "outputs": [
    {
     "data": {
      "text/html": [
       "<div>\n",
       "<style scoped>\n",
       "    .dataframe tbody tr th:only-of-type {\n",
       "        vertical-align: middle;\n",
       "    }\n",
       "\n",
       "    .dataframe tbody tr th {\n",
       "        vertical-align: top;\n",
       "    }\n",
       "\n",
       "    .dataframe thead th {\n",
       "        text-align: right;\n",
       "    }\n",
       "</style>\n",
       "<table border=\"1\" class=\"dataframe\">\n",
       "  <thead>\n",
       "    <tr style=\"text-align: right;\">\n",
       "      <th>Gender</th>\n",
       "      <th>F</th>\n",
       "      <th>M</th>\n",
       "      <th>All</th>\n",
       "    </tr>\n",
       "    <tr>\n",
       "      <th>Intelligence</th>\n",
       "      <th></th>\n",
       "      <th></th>\n",
       "      <th></th>\n",
       "    </tr>\n",
       "  </thead>\n",
       "  <tbody>\n",
       "    <tr>\n",
       "      <th>average</th>\n",
       "      <td>0.064189</td>\n",
       "      <td>0.170608</td>\n",
       "      <td>0.234797</td>\n",
       "    </tr>\n",
       "    <tr>\n",
       "      <th>good</th>\n",
       "      <td>0.131757</td>\n",
       "      <td>0.278716</td>\n",
       "      <td>0.410473</td>\n",
       "    </tr>\n",
       "    <tr>\n",
       "      <th>high</th>\n",
       "      <td>0.045608</td>\n",
       "      <td>0.189189</td>\n",
       "      <td>0.234797</td>\n",
       "    </tr>\n",
       "    <tr>\n",
       "      <th>low</th>\n",
       "      <td>0.000000</td>\n",
       "      <td>0.021959</td>\n",
       "      <td>0.021959</td>\n",
       "    </tr>\n",
       "    <tr>\n",
       "      <th>moderate</th>\n",
       "      <td>0.035473</td>\n",
       "      <td>0.062500</td>\n",
       "      <td>0.097973</td>\n",
       "    </tr>\n",
       "    <tr>\n",
       "      <th>All</th>\n",
       "      <td>0.277027</td>\n",
       "      <td>0.722973</td>\n",
       "      <td>1.000000</td>\n",
       "    </tr>\n",
       "  </tbody>\n",
       "</table>\n",
       "</div>"
      ],
      "text/plain": [
       "Gender               F         M       All\n",
       "Intelligence                              \n",
       "average       0.064189  0.170608  0.234797\n",
       "good          0.131757  0.278716  0.410473\n",
       "high          0.045608  0.189189  0.234797\n",
       "low           0.000000  0.021959  0.021959\n",
       "moderate      0.035473  0.062500  0.097973\n",
       "All           0.277027  0.722973  1.000000"
      ]
     },
     "execution_count": 20,
     "metadata": {},
     "output_type": "execute_result"
    }
   ],
   "source": [
    "pd.crosstab(index=data['Intelligence'], \n",
    "            columns=data['Gender'],\n",
    "            margins=True,\n",
    "            normalize='all')"
   ]
  },
  {
   "cell_type": "markdown",
   "id": "af9c1c90",
   "metadata": {},
   "source": [
    "Scatter Plot"
   ]
  },
  {
   "cell_type": "code",
   "execution_count": 21,
   "id": "f6b424ba",
   "metadata": {},
   "outputs": [
    {
     "data": {
      "image/png": "[encoded data removed]",
      "text/plain": [
       "<Figure size 432x288 with 1 Axes>"
      ]
     },
     "metadata": {
      "needs_background": "light"
     },
     "output_type": "display_data"
    }
   ],
   "source": [
    "data[data['Gender']=='M'].plot.scatter('Height', 'Weight')\n",
    "plt.show()\n",
    "#è possibile aggiungere una retta per evidenziare il tipo di relazione"
   ]
  },
  {
   "cell_type": "code",
   "execution_count": 22,
   "id": "25d077e6",
   "metadata": {},
   "outputs": [
    {
     "data": {
      "image/png": "[encoded data removed]",
      "text/plain": [
       "<Figure size 432x288 with 1 Axes>"
      ]
     },
     "metadata": {
      "needs_background": "light"
     },
     "output_type": "display_data"
    }
   ],
   "source": [
    "from sklearn import linear_model\n",
    "\n",
    "regr = linear_model.LinearRegression()\n",
    "\n",
    "heroes_with_data = data[data['Gender']=='M'].copy().dropna()\n",
    "heroes_with_data = heroes_with_data[heroes_with_data['Height']<300]\n",
    "\n",
    "X = heroes_with_data.loc[:, ['Height']]\n",
    "Y = heroes_with_data['Weight']\n",
    "\n",
    "regr.fit(X, Y)\n",
    "\n",
    "data[data['Gender']=='M'].plot.scatter('Height', 'Weight')\n",
    "\n",
    "line, = plt.plot([0, 1000], regr.predict([[0], [1000]]), color='black')\n",
    "line.set_dashes([3, 2])\n",
    "line.set_linewidth(2)\n",
    "plt.ylim(0,1000)\n",
    "plt.grid()\n",
    "plt.show()"
   ]
  },
  {
   "cell_type": "code",
   "execution_count": 23,
   "id": "28967496",
   "metadata": {},
   "outputs": [],
   "source": [
    "#Indice di Gini\n",
    "def gini(series):\n",
    "    return 1 - (sum(series.value_counts(normalize=True)\n",
    "                    .map(lambda f: f**2)))\n",
    "\n",
    "#indice di gini normalizzato\n",
    "def num_values(series):\n",
    "    return len(series.unique())\n",
    "\n",
    "def normalized_gini(series):\n",
    "    s = num_values(series)\n",
    "    return s * gini(series) / (s-1)\n",
    "\n",
    "#Entropia\n",
    "def entropy(series):\n",
    "    return sum((series.value_counts(normalize=True)\n",
    "                      .map(lambda f: -f * np.log2(f))))"
   ]
  },
  {
   "cell_type": "markdown",
   "id": "02be7ff4",
   "metadata": {},
   "source": [
    "Alberi di decisione\n",
    "Si basano sugli indici di eterogeneità "
   ]
  },
  {
   "cell_type": "code",
   "execution_count": 24,
   "id": "35f4b0c7",
   "metadata": {},
   "outputs": [],
   "source": [
    "good_guys = data.loc[['Wonder Woman',\n",
    "                        'Aquaman',\n",
    "                        'Cyborg',\n",
    "                        'Flash II']]\n",
    "bad_guys = data.loc[['Black Manta',\n",
    "                       'Penguin',\n",
    "                       'Joker',\n",
    "                       'Deathstroke',\n",
    "                       'Bizarro']]\n",
    "all_guys = pd.concat([good_guys, bad_guys])\n",
    "\n",
    "features = ['Height', 'Weight', 'Gender', 'First appearance',\n",
    "            'Hair color', 'Eye color', 'Strength', 'Intelligence']\n",
    "X = all_guys[features]\n",
    "\n",
    "Y = pd.concat([pd.DataFrame(['good guy'] * len(good_guys),\n",
    "                            index=good_guys.index),\n",
    "               pd.DataFrame(['bad guy'] * len(bad_guys),\n",
    "                            index=bad_guys.index)])"
   ]
  },
  {
   "cell_type": "code",
   "execution_count": 25,
   "id": "92bc8c39",
   "metadata": {},
   "outputs": [],
   "source": [
    "from sklearn.preprocessing import LabelEncoder\n",
    "\n",
    "#richiede che i dati siano espressi utilizzando esclusivamente valori numerici. \n",
    "gender_encoder = LabelEncoder()\n",
    "gender_encoder.fit(all_guys['Gender'])\n",
    "\n",
    "eye_col_encoder = LabelEncoder()\n",
    "eye_col_encoder.fit(all_guys['Eye color'])\n",
    "\n",
    "hair_col_encoder = LabelEncoder()\n",
    "hair_col_encoder.fit(all_guys['Hair color'])\n",
    "\n",
    "intelligence_encoder = LabelEncoder()\n",
    "_ = intelligence_encoder.fit(all_guys['Intelligence'])"
   ]
  },
  {
   "cell_type": "code",
   "execution_count": 26,
   "id": "735a9610",
   "metadata": {},
   "outputs": [],
   "source": [
    "#transform converte la serie corrispondente\n",
    "all_guys['Gender'] = gender_encoder.transform(all_guys['Gender'])\n",
    "all_guys['Eye color'] = eye_col_encoder.transform(all_guys['Eye color'])\n",
    "all_guys['Hair color'] = hair_col_encoder.transform(all_guys['Hair color'])\n",
    "all_guys['Intelligence'] = intelligence_encoder.transform(all_guys['Intelligence'])\n",
    "\n",
    "X = all_guys[features]"
   ]
  },
  {
   "cell_type": "code",
   "execution_count": 27,
   "id": "ebdd2b0a",
   "metadata": {},
   "outputs": [
    {
     "data": {
      "text/plain": [
       "array(['good guy', 'good guy', 'good guy', 'good guy', 'bad guy',\n",
       "       'bad guy', 'bad guy', 'bad guy', 'bad guy'], dtype=object)"
      ]
     },
     "execution_count": 27,
     "metadata": {},
     "output_type": "execute_result"
    }
   ],
   "source": [
    "from sklearn import tree\n",
    "\n",
    "clf = tree.DecisionTreeClassifier()\n",
    "clf = clf.fit(X, Y)\n",
    "\n",
    "#si usa il metodo predict per verificare quale etichetta venga associata agli oggetti di partenza\n",
    "predictions = clf.predict([X.loc[name] for name in X.index])\n",
    "predictions"
   ]
  },
  {
   "cell_type": "code",
   "execution_count": 28,
   "id": "e14fcec2",
   "metadata": {},
   "outputs": [
    {
     "data": {
      "image/png": "[encoded data removed]",
      "text/plain": [
       "<Figure size 432x288 with 1 Axes>"
      ]
     },
     "metadata": {
      "needs_background": "light"
     },
     "output_type": "display_data"
    }
   ],
   "source": [
    "#Concentrazione\n",
    "\n",
    "tot = 10\n",
    "n = 20\n",
    "a = [tot/100]*10 + [tot*4/90]*9 + [tot/2]\n",
    "q = np.cumsum(a) / tot\n",
    "f = np.arange(1, n+1) / n\n",
    "plt.fill_between(f, f, q, alpha=0.2)\n",
    "plt.plot([0, 1], [0, 1], linestyle='--', linewidth=2, c='gray')\n",
    "plt.plot(f, q, 'o')\n",
    "plt.show()"
   ]
  },
  {
   "cell_type": "markdown",
   "id": "2d8e74f7",
   "metadata": {},
   "source": [
    "Indici di dispersione"
   ]
  },
  {
   "cell_type": "code",
   "execution_count": 29,
   "id": "c032f909",
   "metadata": {},
   "outputs": [],
   "source": [
    "heroes = pd.read_csv('data/heroes.csv', sep=';', index_col=0)"
   ]
  },
  {
   "cell_type": "code",
   "execution_count": 30,
   "id": "e9c387f4",
   "metadata": {},
   "outputs": [
    {
     "data": {
      "text/plain": [
       "388.7687050520392"
      ]
     },
     "execution_count": 30,
     "metadata": {},
     "output_type": "execute_result"
    }
   ],
   "source": [
    "year = heroes['First appearance']\n",
    "year.var() # varianza campionaria"
   ]
  },
  {
   "cell_type": "code",
   "execution_count": 31,
   "id": "106441e1",
   "metadata": {},
   "outputs": [
    {
     "data": {
      "text/plain": [
       "19.717218491766"
      ]
     },
     "execution_count": 31,
     "metadata": {},
     "output_type": "execute_result"
    }
   ],
   "source": [
    "year.std() #deviazione standard"
   ]
  },
  {
   "cell_type": "code",
   "execution_count": 32,
   "id": "4c55bb01",
   "metadata": {},
   "outputs": [
    {
     "data": {
      "text/plain": [
       "count     367.000000\n",
       "mean     1979.855586\n",
       "std        19.717218\n",
       "min      1933.000000\n",
       "25%      1965.000000\n",
       "50%      1979.000000\n",
       "75%      1994.000000\n",
       "max      2099.000000\n",
       "Name: First appearance, dtype: float64"
      ]
     },
     "execution_count": 32,
     "metadata": {},
     "output_type": "execute_result"
    }
   ],
   "source": [
    "year.describe() #calcola i principali indici descrittivi di centralità e dispersione"
   ]
  },
  {
   "cell_type": "code",
   "execution_count": 33,
   "id": "9c664749",
   "metadata": {},
   "outputs": [
    {
     "data": {
      "text/plain": [
       "1963.0"
      ]
     },
     "execution_count": 33,
     "metadata": {},
     "output_type": "execute_result"
    }
   ],
   "source": [
    "year.quantile(.15) #restituisce il quantile corrispondente al livello specificato come argomento."
   ]
  },
  {
   "cell_type": "code",
   "execution_count": 34,
   "id": "c7d8676f",
   "metadata": {},
   "outputs": [
    {
     "data": {
      "image/png": "[encoded data removed]",
      "text/plain": [
       "<Figure size 432x288 with 1 Axes>"
      ]
     },
     "metadata": {
      "needs_background": "light"
     },
     "output_type": "display_data"
    }
   ],
   "source": [
    "#Box plot\n",
    "year.plot.box(vert = True)\n",
    "plt.show()"
   ]
  },
  {
   "cell_type": "code",
   "execution_count": 35,
   "id": "6d46f3da",
   "metadata": {},
   "outputs": [
    {
     "name": "stderr",
     "output_type": "stream",
     "text": [
      "d:\\Anaconda3\\lib\\site-packages\\statsmodels\\graphics\\gofplots.py:993: UserWarning: marker is redundantly defined by the 'marker' keyword argument and the fmt string \"bo\" (-> marker='o'). The keyword argument will take precedence.\n",
      "  ax.plot(x, y, fmt, **plot_style)\n"
     ]
    },
    {
     "data": {
      "image/png": "[encoded data removed]",
      "text/plain": [
       "<Figure size 432x288 with 1 Axes>"
      ]
     },
     "metadata": {
      "needs_background": "light"
     },
     "output_type": "display_data"
    }
   ],
   "source": [
    "#Diagrammi QQ\n",
    "#è una rappresentazione grafica che considera due campioni al fine \n",
    "#di valutare la validità dell'ipotesi che i campioni stessi seguano una medesima distribuzione\n",
    "import statsmodels.api as sm\n",
    "\n",
    "marvel = heroes.loc[(heroes['Publisher']=='Marvel Comics') & \\\n",
    "                    (heroes['Height'].between(150, 200))]\n",
    "\n",
    "dc = heroes.loc[(heroes['Publisher']=='DC Comics') & \\\n",
    "                (heroes['Height'].between(150, 200))]\n",
    "\n",
    "marvel_sample = marvel['Height'].sample(120) #campione casuale di 120 elementi\n",
    "dc_sample = dc['Height'].sample(120)\n",
    "\n",
    "sm.qqplot_2samples(marvel_sample, dc_sample, line='45')\n",
    "plt.show()"
   ]
  },
  {
   "cell_type": "markdown",
   "id": "3f6d2361",
   "metadata": {},
   "source": [
    "Si nota infine che una standardizzazione dei dati permette di confinare il grafico ottenuto in prossimità dell'origine. In tal modo diventa più facile accorgersi di eventuali valori fuori scala."
   ]
  },
  {
   "cell_type": "code",
   "execution_count": 36,
   "id": "3245d07a",
   "metadata": {},
   "outputs": [
    {
     "name": "stderr",
     "output_type": "stream",
     "text": [
      "d:\\Anaconda3\\lib\\site-packages\\statsmodels\\graphics\\gofplots.py:993: UserWarning: marker is redundantly defined by the 'marker' keyword argument and the fmt string \"bo\" (-> marker='o'). The keyword argument will take precedence.\n",
      "  ax.plot(x, y, fmt, **plot_style)\n"
     ]
    },
    {
     "data": {
      "image/png": "[encoded data removed]",
      "text/plain": [
       "<Figure size 432x288 with 1 Axes>"
      ]
     },
     "metadata": {
      "needs_background": "light"
     },
     "output_type": "display_data"
    }
   ],
   "source": [
    "sm.qqplot_2samples((marvel_sample-marvel_sample.mean())/marvel_sample.std(),\n",
    "                   (dc_sample-dc_sample.mean())/dc_sample.std(),\n",
    "                   line='s',\n",
    "                   xlabel='DC', ylabel='Marvel')\n",
    "plt.show()"
   ]
  },
  {
   "cell_type": "code",
   "execution_count": 37,
   "id": "db25a163",
   "metadata": {},
   "outputs": [
    {
     "name": "stderr",
     "output_type": "stream",
     "text": [
      "d:\\Anaconda3\\lib\\site-packages\\statsmodels\\graphics\\gofplots.py:993: UserWarning: marker is redundantly defined by the 'marker' keyword argument and the fmt string \"bo\" (-> marker='o'). The keyword argument will take precedence.\n",
      "  ax.plot(x, y, fmt, **plot_style)\n"
     ]
    },
    {
     "data": {
      "image/png": "[encoded data removed]",
      "text/plain": [
       "<Figure size 432x288 with 1 Axes>"
      ]
     },
     "metadata": {
      "needs_background": "light"
     },
     "output_type": "display_data"
    }
   ],
   "source": [
    "#Controllo se segue distribuzione normale\n",
    "import statsmodels.api as sm\n",
    "sm.qqplot(dc_sample,fit=True, line='45')\n",
    "plt.show()"
   ]
  },
  {
   "cell_type": "markdown",
   "id": "18ad8d13",
   "metadata": {},
   "source": [
    "Tra le distribuzioni approssimativamente simmetriche, un ruolo particolare spetta alle cosiddette distribuzioni _approssimativamente normali_, in cui la simmetria è accompagnata da una forma \"a campana\" del grafico delle frequenze. In questo tipo di distribuzioni i dati si concentrano attorno alla media campionaria secondo la seguente _regola empirica_:\n",
    "\n",
    "- approssimativamente il 68% delle osservazioni dista dalla media campionaria non più di una deviazione standard campionaria;\n",
    "- approssimativamente il 95% delle osservazioni dista dalla media campionaria non più di due deviazioni standard campionarie;\n",
    "- approssimativamente il 99.7% delle osservazioni dista dalla media campionaria non più di tre deviazioni standard campionarie.\n",
    "\n",
    "Siccome il grafico delle frequenze dell'altezza ha approssimativamente un andamento a campana, possiamo controllare numericamente se questa regola empirica risulti verificata."
   ]
  },
  {
   "cell_type": "code",
   "execution_count": 38,
   "id": "c98d38c9",
   "metadata": {},
   "outputs": [
    {
     "data": {
      "text/html": [
       "<div>\n",
       "<style scoped>\n",
       "    .dataframe tbody tr th:only-of-type {\n",
       "        vertical-align: middle;\n",
       "    }\n",
       "\n",
       "    .dataframe tbody tr th {\n",
       "        vertical-align: top;\n",
       "    }\n",
       "\n",
       "    .dataframe thead th {\n",
       "        text-align: right;\n",
       "    }\n",
       "</style>\n",
       "<table border=\"1\" class=\"dataframe\">\n",
       "  <thead>\n",
       "    <tr style=\"text-align: right;\">\n",
       "      <th></th>\n",
       "      <th>%</th>\n",
       "    </tr>\n",
       "  </thead>\n",
       "  <tbody>\n",
       "    <tr>\n",
       "      <th>1</th>\n",
       "      <td>0.672269</td>\n",
       "    </tr>\n",
       "    <tr>\n",
       "      <th>2</th>\n",
       "      <td>0.947479</td>\n",
       "    </tr>\n",
       "    <tr>\n",
       "      <th>3</th>\n",
       "      <td>0.993697</td>\n",
       "    </tr>\n",
       "  </tbody>\n",
       "</table>\n",
       "</div>"
      ],
      "text/plain": [
       "          %\n",
       "1  0.672269\n",
       "2  0.947479\n",
       "3  0.993697"
      ]
     },
     "execution_count": 38,
     "metadata": {},
     "output_type": "execute_result"
    }
   ],
   "source": [
    "def check_empirical_rule(n):\n",
    "    within = len(sample[np.abs(sample - sample.mean()) < n*sample.std()])\n",
    "    return  within / len(sample)\n",
    "\n",
    "sample = heroes[(heroes['Height'].between(150, 220))]['Height']\n",
    "pd.DataFrame([check_empirical_rule(n) for n in range(1, 4)], columns=['%'],\n",
    "             index=range(1, 4))"
   ]
  },
  {
   "cell_type": "code",
   "execution_count": 39,
   "id": "5bd47225",
   "metadata": {},
   "outputs": [
    {
     "data": {
      "image/png": "[encoded data removed]",
      "text/plain": [
       "<Figure size 432x288 with 1 Axes>"
      ]
     },
     "metadata": {
      "needs_background": "light"
     },
     "output_type": "display_data"
    }
   ],
   "source": [
    "#Classificatore a soglia\n",
    "#Un classificatore a soglia effettua il procedimento di classificazione di un generico oggetto calcolando una quantità \n",
    "# verificando poi che quest'ultima sia superiore a una soglia prefissata. \n",
    "from sklearn.datasets import make_classification\n",
    "from sklearn.linear_model import LogisticRegression\n",
    "\n",
    "X, y = make_classification(n_samples=10000, n_features=10, n_classes=2, n_informative=5)\n",
    "Xtrain = X[:9000]\n",
    "Xtest = X[9000:]\n",
    "ytrain = y[:9000]\n",
    "ytest = y[9000:]\n",
    "\n",
    "clf = LogisticRegression()\n",
    "clf.fit(Xtrain, ytrain)\n",
    "\n",
    "from sklearn import metrics\n",
    "\n",
    "preds = clf.predict_proba(Xtest)[:,1]\n",
    "fpr, tpr, _ = metrics.roc_curve(ytest, preds)\n",
    "\n",
    "plt.plot(fpr, tpr)\n",
    "plt.plot([0, 1], [0, 1], dashes=[3, 3], color='gray')\n",
    "plt.xlim([-0.01, 1])\n",
    "plt.ylim([0, 1.01])\n",
    "plt.xlabel('Curva ROC')\n",
    "plt.axis('equal')\n",
    "plt.show()"
   ]
  },
  {
   "cell_type": "code",
   "execution_count": 40,
   "id": "1b677622",
   "metadata": {},
   "outputs": [
    {
     "data": {
      "image/png": "[encoded data removed]",
      "text/plain": [
       "<Figure size 432x288 with 1 Axes>"
      ]
     },
     "metadata": {
      "needs_background": "light"
     },
     "output_type": "display_data"
    }
   ],
   "source": [
    "#in funzione delle etichette che individuano le classi degli oggetti e delle probabilità emesse dal classificatore \n",
    "#determina automaticamente quali sono i valori sensati da considerare per la soglia sulla probabilità \n",
    "from sklearn import metrics\n",
    "y = [1, 0, 1, 1, 0]\n",
    "prob = [.7, .4, .8, .7, .3]\n",
    "fpr, tpr, _ = metrics.roc_curve(y, prob)\n",
    "plt.plot(fpr, tpr)\n",
    "plt.plot([0, 1], [0, 1], dashes=[3, 3], color='gray')\n",
    "plt.show()"
   ]
  },
  {
   "cell_type": "code",
   "execution_count": 41,
   "id": "df730d40",
   "metadata": {},
   "outputs": [],
   "source": [
    "#Analisi della varianza\n",
    "def anova(groups):\n",
    "    all_elements = pd.concat(groups)\n",
    "    \n",
    "    sum_total = sum((all_elements - all_elements.mean())**2)\n",
    "    sum_within = sum([sum((g - g.mean())**2) for g in groups])\n",
    "    \n",
    "    sum_between = sum([len(g) * (g.mean()-all_elements.mean())**2\n",
    "                       for g in groups])\n",
    "    #effettua un controllo, passo un invariante che dovrebbe essere true, se non lo è c'è stato un errore\n",
    "    assert(np.abs(sum_total - sum_within - sum_between) < 10**-5)\n",
    "    n = len(all_elements)\n",
    "    total_var = sum_total / (n-1)\n",
    "    within_var = sum_within / (n-len(groups))\n",
    "    \n",
    "    return (total_var, within_var*(n-len(groups))/(n-1))"
   ]
  },
  {
   "cell_type": "markdown",
   "id": "33f5029d",
   "metadata": {},
   "source": [
    "Variabili aleatorie"
   ]
  },
  {
   "cell_type": "code",
   "execution_count": 42,
   "id": "1f4bdffb",
   "metadata": {},
   "outputs": [],
   "source": [
    "#Uso dei modelli\n",
    "import scipy.stats as st\n",
    "\n",
    "#Var = st.mod(param)\n",
    "X = st.poisson(5)\n",
    "\n",
    "X.pmf(range(15)) #funzione di massa di probabilità P (X = x) se discreta\n",
    "                    #altrimenti X.pdf\n",
    "x = range(15)\n",
    "\n",
    "#plt.vlines(x, 0, X.pmf(x))\n",
    "#plt.plot(x, X.pmf(x), 'o')\n",
    "#plt.show()\n",
    "\n",
    "X.cdf(5) # calcola la funzione di ripartizione valore per valore, ritornando un array P(X <= x)\n",
    "\n",
    "X.mean() #valore atteso\n",
    "X.var() # varianza\n",
    "X.std() #deviazione standard\n",
    "\n",
    "\n",
    "Y = st.expon(scale =1/2) #il modello esponenziale richiede che sia passato l'inverso del parametro considerato\n",
    "\n",
    "#per ottenere un grafico di una funzione a gradini usa plt.step"
   ]
  }
 ],
 "metadata": {
  "kernelspec": {
   "display_name": "Python 3 (ipykernel)",
   "language": "python",
   "name": "python3"
  },
  "language_info": {
   "codemirror_mode": {
    "name": "ipython",
    "version": 3
   },
   "file_extension": ".py",
   "mimetype": "text/x-python",
   "name": "python",
   "nbconvert_exporter": "python",
   "pygments_lexer": "ipython3",
   "version": "3.9.7"
  }
 },
 "nbformat": 4,
 "nbformat_minor": 5
}
